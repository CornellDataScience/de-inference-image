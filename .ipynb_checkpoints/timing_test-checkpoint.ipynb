{
 "cells": [
  {
   "cell_type": "code",
   "execution_count": 15,
   "metadata": {},
   "outputs": [],
   "source": [
    "import face_recognition as fr\n",
    "import numpy as np\n",
    "import os\n",
    "import re\n",
    "\n",
    "class FaceDetector():\n",
    "    def __init__(self, path_to_faces):\n",
    "\n",
    "        self.names = []\n",
    "        self.encodings = []\n",
    "        self.image_dict = {}\n",
    "\n",
    "        directory = os.listdir(path_to_faces)\n",
    "        assert len(directory) != 0\n",
    "        file_path = path_to_faces\n",
    "\n",
    "        file_name = re.compile(\"(^.+)\\.(png|jpeg|jpg)$\")\n",
    "        for image_name in directory:\n",
    "\n",
    "            #add names to names list, if not image file, skip\n",
    "            match = file_name.search(image_name)\n",
    "            if match == None: continue\n",
    "            name = match.group(1)\n",
    "            self.names.append(name)\n",
    "\n",
    "            #add face encoding to names list, if cannot find a face throws IndexError\n",
    "            #*PRECONDITION: ALL IMAGES MUST HAVE 1 FACE\n",
    "            try:\n",
    "                face = fr.load_image_file(file_path + image_name)\n",
    "                face_location = fr.face_locations(face)\n",
    "                encoding = fr.face_encodings(face)\n",
    "                self.encodings.append(encoding)\n",
    "            except IndexError:\n",
    "                print(\"unable to find face\")\n",
    "                del self.names[-1]\n",
    "\n",
    "            #add to dictionary\n",
    "            self.image_dict[name] = [encoding, face_location]\n",
    "\n",
    "\n",
    "    ##Returns probability that two faces are a match (RECOMMENED IF >.93, THEN MATCH)\n",
    "    def prob_of_match(self, known_face_encoding, face_encoding_to_check):\n",
    "        #turn into np array\n",
    "        known_face_encoding_np_array = np.array([known_face_encoding])\n",
    "\n",
    "        #call match function and store encoding matches, lower the tolerance the more strict, 0.09 seems to work well\n",
    "        encoding_matches = fr.compare_faces(known_face_encoding_np_array, face_encoding_to_check, tolerance=0.09)\n",
    "\n",
    "        #count number of matches\n",
    "        match_count = 0\n",
    "        for encoding_match in encoding_matches[0]:\n",
    "            if encoding_match:\n",
    "                match_count += 1\n",
    "\n",
    "        #calculate proportion of matches\n",
    "        encoding_match_proportion = match_count/len(encoding_matches[0])\n",
    "\n",
    "        #93 - 95% of all encoding checks should match\n",
    "        return encoding_match_proportion #> 0.95\n",
    "\n",
    "\n",
    "    ##Returns the person who matches closest with the inputted encoding and the coordinates of the location of a face\n",
    "    # Format: Top Left Corner: (X,Y), Bottom Right Corner(X,Y) ==> (location[0],location[2]), (location[3]:location[1])\n",
    "\n",
    "    def infer_person(self, path_to_image):\n",
    "        face_obj = fr.load_image_file(path_to_image)\n",
    "        unknown_face_encoding = fr.face_encodings(face_obj)\n",
    "        if len(unknown_face_encoding) == 0:\n",
    "            return ('', (-1, -1, -1, -1))\n",
    "        highest_match_prob = [- 1.0, 'no match']\n",
    "\n",
    "        for person in self.image_dict:\n",
    "            match_prob = self.prob_of_match(self.image_dict[person][0], unknown_face_encoding)\n",
    "\n",
    "            if highest_match_prob[0] < match_prob and match_prob > 0.93:\n",
    "                highest_match_prob[0] = match_prob\n",
    "                highest_match_prob[1] = person\n",
    "\n",
    "        return (highest_match_prob[1], fr.face_locations(face_obj)[0])\n",
    "\n",
    "\n",
    "    ##Returns whether face recognition detects a face\n",
    "    def has_face(self, path_to_image):\n",
    "        face = fr.load_image_file(path_to_image)\n",
    "        encoding = fr.face_encodings(face)\n",
    "        return len(encoding) != 0\n",
    "\n",
    "\n",
    "    # Returns tuple of the coordinates of location of the face given a person's name in their original picture\n",
    "    # Top Left Corner: (X,Y), Bottom Right Corner(X,Y) | (location[0],location[2]), (location[3]:location[1])\n",
    "    def get_face_coordinates(self, name):\n",
    "        return self.image_dict[name][1][0]\n",
    "\n",
    "\n"
   ]
  },
  {
   "cell_type": "code",
   "execution_count": 16,
   "metadata": {},
   "outputs": [],
   "source": [
    "facer = FaceDetector('./images/')"
   ]
  },
  {
   "cell_type": "code",
   "execution_count": 17,
   "metadata": {},
   "outputs": [
    {
     "name": "stdout",
     "output_type": "stream",
     "text": [
      "0\n"
     ]
    },
    {
     "data": {
      "text/plain": [
       "('', (-1, -1, -1, -1))"
      ]
     },
     "execution_count": 17,
     "metadata": {},
     "output_type": "execute_result"
    }
   ],
   "source": [
    "facer.infer_person('./images/unknown/blue_tree.jpg')"
   ]
  },
  {
   "cell_type": "code",
   "execution_count": null,
   "metadata": {},
   "outputs": [],
   "source": []
  }
 ],
 "metadata": {
  "kernelspec": {
   "display_name": "Python 3",
   "language": "python",
   "name": "python3"
  },
  "language_info": {
   "codemirror_mode": {
    "name": "ipython",
    "version": 3
   },
   "file_extension": ".py",
   "mimetype": "text/x-python",
   "name": "python",
   "nbconvert_exporter": "python",
   "pygments_lexer": "ipython3",
   "version": "3.6.5"
  }
 },
 "nbformat": 4,
 "nbformat_minor": 2
}
